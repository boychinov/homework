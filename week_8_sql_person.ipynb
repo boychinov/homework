{
    "metadata": {
        "kernelspec": {
            "name": "SQL",
            "display_name": "SQL",
            "language": "sql"
        },
        "language_info": {
            "name": "sql",
            "version": ""
        }
    },
    "nbformat_minor": 2,
    "nbformat": 4,
    "cells": [
        {
            "cell_type": "markdown",
            "source": [
                "1"
            ],
            "metadata": {
                "azdata_cell_guid": "0eeff6c6-8d2d-4cb4-a6f8-c44cea2d2664"
            }
        },
        {
            "cell_type": "code",
            "source": [
                "select * from PERSON;\n",
                "select * from DEPARTMENT;\n",
                "select * from POSITION;\n",
                "--2\n",
                "select NAME_, SURNAME, BIRTHDATE from PERSON where GENDER = 'K';\n",
                "\n",
                "--3\n",
                "select NAME_, SURNAME, INDATE from PERSON where INDATE > '2017-01-01';\n",
                "\n",
                "--4\n",
                "insert into PERSON values('1781','12345678901','Esma','Sultan','K','1980-01-01','2017-02-03',NULL,4,38,28,922,'(0282) 2628699', 10000);\n",
                "\n",
                "--5\n",
                "select * from PERSON;\n",
                "\n",
                "update PERSON set SALARY=6000 where NAME_='Ferhat' and SURNAME='CINAR';\n",
                "\n",
                "--6\n",
                "select * from PERSON where NAME_='Deniz' and SURNAME='ERAVCI';\n",
                "\n",
                "delete from PERSON where NAME_='Deniz' and SURNAME='ERAVCI';\n",
                "\n",
                "--7\n",
                "select NAME_, SURNAME, BIRTHDATE from PERSON where BIRTHDATE < '1960-01-01';\n",
                "\n",
                "--8\n",
                "select NAME_, SURNAME, BIRTHDATE, SALARY from PERSON where BIRTHDATE < '1960-01-01' and SALARY > 5000;\n",
                "\n",
                "--9\n",
                "select NAME_, SURNAME, DEPARTMENTID, SALARY from PERSON where DEPARTMENTID=4 and SALARY > 5500;\n",
                "\n",
                "--10\n",
                "select * from PERSON where OUTDATE is NULL;\n",
                "\n",
                "update PERSON set SALARY = SALARY * 1.10 where OUTDATE is NULL;\n",
                "\n",
                "--11\n",
                "select * from PERSON where INDATE < '2015-01-01' and SALARY < 5000;\n",
                "\n",
                "--12\n",
                "select distinct DEPARTMENTID from PERSON;\n",
                "\n",
                "--13\n",
                "select * from DEPARTMENT;\n",
                "\n",
                "select NAME_, SURNAME, SALARY from PERSON ORDER BY SALARY DESC;\n",
                "\n",
                "--14\n",
                "select TOP(5) NAME_, SURNAME, SALARY from PERSON ORDER BY SALARY DESC;"
            ],
            "metadata": {
                "azdata_cell_guid": "dc9ccc03-8d55-4d78-ae51-43981a977156",
                "language": "sql"
            },
            "outputs": [],
            "execution_count": null
        }
    ]
}